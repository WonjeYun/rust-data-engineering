{
 "cells": [
  {
   "cell_type": "code",
   "execution_count": 2,
   "id": "1f5d925e-e827-4316-859f-b89f418b721d",
   "metadata": {},
   "outputs": [
    {
     "name": "stdout",
     "output_type": "stream",
     "text": [
      "Hello World\n"
     ]
    }
   ],
   "source": [
    "println!(\"Hello World\");"
   ]
  },
  {
   "cell_type": "code",
   "execution_count": 7,
   "id": "7c843ea0-513e-4a82-967e-28be78156fd7",
   "metadata": {},
   "outputs": [],
   "source": [
    ":dep polars = { version = \"0.43.1\", features = [\"lazy\"] }\n",
    ":dep csv = \"1.3.0\""
   ]
  },
  {
   "cell_type": "code",
   "execution_count": 4,
   "id": "4bcd7fa0-9b5c-4be1-9675-8d6fea6d6b39",
   "metadata": {},
   "outputs": [
    {
     "name": "stdout",
     "output_type": "stream",
     "text": [
      "shape: (10, 4)\n",
      "┌───────┬─────────┬────────────┬───────┐\n",
      "│ Movie ┆ Theatre ┆ Avg_Rating ┆ Count │\n",
      "│ ---   ┆ ---     ┆ ---        ┆ ---   │\n",
      "│ str   ┆ str     ┆ f64        ┆ i32   │\n",
      "╞═══════╪═════════╪════════════╪═══════╡\n",
      "│ Cars  ┆ NE      ┆ 4.5        ┆ 30    │\n",
      "│ IT    ┆ ME      ┆ 4.4        ┆ 27    │\n",
      "│ ET    ┆ IL      ┆ 4.6        ┆ 26    │\n",
      "│ Cars  ┆ ND      ┆ 4.3        ┆ 29    │\n",
      "│ …     ┆ …       ┆ …          ┆ …     │\n",
      "│ Cars  ┆ NE      ┆ 4.7        ┆ 28    │\n",
      "│ ET    ┆ IL      ┆ 4.9        ┆ 26    │\n",
      "│ Up    ┆ IL      ┆ 4.7        ┆ 33    │\n",
      "│ ET    ┆ SD      ┆ 4.6        ┆ 26    │\n",
      "└───────┴─────────┴────────────┴───────┘\n"
     ]
    }
   ],
   "source": [
    "use polars::prelude::*;\n",
    "\n",
    "let ratings = df!(\n",
    "        \"Movie\"=> &[\"Cars\", \"IT\", \"ET\", \"Cars\", \"Up\", \"IT\", \"Cars\", \"ET\", \"Up\", \"ET\"],\n",
    "        \"Theatre\"=> &[\"NE\", \"ME\", \"IL\", \"ND\", \"NE\", \"SD\", \"NE\", \"IL\", \"IL\", \"SD\"],\n",
    "        \"Avg_Rating\"=> &[4.5, 4.4, 4.6, 4.3, 4.8, 4.7, 4.7, 4.9, 4.7, 4.6],\n",
    "        \"Count\"=> &[30, 27, 26, 29, 31, 28, 28, 26, 33, 26],\n",
    "\n",
    ")?;\n",
    "println!(\"{}\", &ratings);"
   ]
  },
  {
   "cell_type": "code",
   "execution_count": 55,
   "id": "855b8db6-901d-4c92-9729-77557d266ae9",
   "metadata": {},
   "outputs": [
    {
     "name": "stdout",
     "output_type": "stream",
     "text": [
      "\n",
      "DataFrame Schema:\n",
      "shape: (10, 7)\n",
      "┌─────────────┬────────────┬───────────────┬──────┬───────┬────────┬─────────────┐\n",
      "│ fruit_label ┆ fruit_name ┆ fruit_subtype ┆ mass ┆ width ┆ height ┆ color_score │\n",
      "│ ---         ┆ ---        ┆ ---           ┆ ---  ┆ ---   ┆ ---    ┆ ---         │\n",
      "│ i64         ┆ str        ┆ str           ┆ i64  ┆ f64   ┆ f64    ┆ f64         │\n",
      "╞═════════════╪════════════╪═══════════════╪══════╪═══════╪════════╪═════════════╡\n",
      "│ 1           ┆ apple      ┆ granny_smith  ┆ 192  ┆ 8.4   ┆ 7.3    ┆ 0.55        │\n",
      "│ 1           ┆ apple      ┆ granny_smith  ┆ 180  ┆ 8.0   ┆ 6.8    ┆ 0.59        │\n",
      "│ 1           ┆ apple      ┆ granny_smith  ┆ 176  ┆ 7.4   ┆ 7.2    ┆ 0.6         │\n",
      "│ 2           ┆ mandarin   ┆ mandarin      ┆ 86   ┆ 6.2   ┆ 4.7    ┆ 0.8         │\n",
      "│ 2           ┆ mandarin   ┆ mandarin      ┆ 84   ┆ 6.0   ┆ 4.6    ┆ 0.79        │\n",
      "│ 2           ┆ mandarin   ┆ mandarin      ┆ 80   ┆ 5.8   ┆ 4.3    ┆ 0.77        │\n",
      "│ 2           ┆ mandarin   ┆ mandarin      ┆ 80   ┆ 5.9   ┆ 4.3    ┆ 0.81        │\n",
      "│ 2           ┆ mandarin   ┆ mandarin      ┆ 76   ┆ 5.8   ┆ 4.0    ┆ 0.81        │\n",
      "│ 1           ┆ apple      ┆ braeburn      ┆ 178  ┆ 7.1   ┆ 7.8    ┆ 0.92        │\n",
      "│ 1           ┆ apple      ┆ braeburn      ┆ 172  ┆ 7.4   ┆ 7.0    ┆ 0.89        │\n",
      "└─────────────┴────────────┴───────────────┴──────┴───────┴────────┴─────────────┘\n",
      "\n",
      "Fruit Counts:\n",
      "shape: (4, 7)\n",
      "┌────────────┬──────────────┬──────────────┬────────────┬─────────────┬──────────────┬─────────────┐\n",
      "│ fruit_name ┆ fruit_label_ ┆ fruit_subtyp ┆ mass_count ┆ width_count ┆ height_count ┆ color_score │\n",
      "│ ---        ┆ count        ┆ e_count      ┆ ---        ┆ ---         ┆ ---          ┆ _count      │\n",
      "│ str        ┆ ---          ┆ ---          ┆ u32        ┆ u32         ┆ u32          ┆ ---         │\n",
      "│            ┆ u32          ┆ u32          ┆            ┆             ┆              ┆ u32         │\n",
      "╞════════════╪══════════════╪══════════════╪════════════╪═════════════╪══════════════╪═════════════╡\n",
      "│ apple      ┆ 19           ┆ 19           ┆ 19         ┆ 19          ┆ 19           ┆ 19          │\n",
      "│ lemon      ┆ 16           ┆ 16           ┆ 16         ┆ 16          ┆ 16           ┆ 16          │\n",
      "│ mandarin   ┆ 5            ┆ 5            ┆ 5          ┆ 5           ┆ 5            ┆ 5           │\n",
      "│ orange     ┆ 19           ┆ 19           ┆ 19         ┆ 19          ┆ 19           ┆ 19          │\n",
      "└────────────┴──────────────┴──────────────┴────────────┴─────────────┴──────────────┴─────────────┘\n",
      "\n",
      "DataFrame Schema:\n",
      "shape: (10, 7)\n",
      "┌─────────────┬────────────┬──────────────────┬──────┬───────┬────────┬─────────────┐\n",
      "│ fruit_label ┆ fruit_name ┆ fruit_subtype    ┆ mass ┆ width ┆ height ┆ color_score │\n",
      "│ ---         ┆ ---        ┆ ---              ┆ ---  ┆ ---   ┆ ---    ┆ ---         │\n",
      "│ i64         ┆ str        ┆ str              ┆ i64  ┆ f64   ┆ f64    ┆ f64         │\n",
      "╞═════════════╪════════════╪══════════════════╪══════╪═══════╪════════╪═════════════╡\n",
      "│ 1           ┆ apple      ┆ granny_smith     ┆ 192  ┆ 8.4   ┆ 7.3    ┆ 0.55        │\n",
      "│ 1           ┆ apple      ┆ granny_smith     ┆ 180  ┆ 8.0   ┆ 6.8    ┆ 0.59        │\n",
      "│ 1           ┆ apple      ┆ braeburn         ┆ 178  ┆ 7.1   ┆ 7.8    ┆ 0.92        │\n",
      "│ 1           ┆ apple      ┆ granny_smith     ┆ 176  ┆ 7.4   ┆ 7.2    ┆ 0.6         │\n",
      "│ 1           ┆ apple      ┆ braeburn         ┆ 172  ┆ 7.4   ┆ 7.0    ┆ 0.89        │\n",
      "│ 1           ┆ apple      ┆ braeburn         ┆ 172  ┆ 7.1   ┆ 7.6    ┆ 0.92        │\n",
      "│ 1           ┆ apple      ┆ cripps_pink      ┆ 170  ┆ 7.6   ┆ 7.9    ┆ 0.88        │\n",
      "│ 1           ┆ apple      ┆ golden_delicious ┆ 168  ┆ 7.5   ┆ 7.6    ┆ 0.73        │\n",
      "│ 1           ┆ apple      ┆ braeburn         ┆ 166  ┆ 6.9   ┆ 7.3    ┆ 0.93        │\n",
      "│ 1           ┆ apple      ┆ golden_delicious ┆ 164  ┆ 7.3   ┆ 7.7    ┆ 0.7         │\n",
      "└─────────────┴────────────┴──────────────────┴──────┴───────┴────────┴─────────────┘\n",
      "\n",
      "DataFrame Schema:\n",
      "shape: (10, 7)\n",
      "┌─────────────┬────────────┬───────────────┬──────┬───────┬────────┬─────────────┐\n",
      "│ fruit_label ┆ fruit_name ┆ fruit_subtype ┆ mass ┆ width ┆ height ┆ color_score │\n",
      "│ ---         ┆ ---        ┆ ---           ┆ ---  ┆ ---   ┆ ---    ┆ ---         │\n",
      "│ i64         ┆ str        ┆ str           ┆ i64  ┆ f64   ┆ f64    ┆ f64         │\n",
      "╞═════════════╪════════════╪═══════════════╪══════╪═══════╪════════╪═════════════╡\n",
      "│ 2           ┆ mandarin   ┆ mandarin      ┆ 86   ┆ 6.2   ┆ 4.7    ┆ 0.8         │\n",
      "│ 2           ┆ mandarin   ┆ mandarin      ┆ 84   ┆ 6.0   ┆ 4.6    ┆ 0.79        │\n",
      "│ 2           ┆ mandarin   ┆ mandarin      ┆ 80   ┆ 5.8   ┆ 4.3    ┆ 0.77        │\n",
      "│ 2           ┆ mandarin   ┆ mandarin      ┆ 80   ┆ 5.9   ┆ 4.3    ┆ 0.81        │\n",
      "│ 2           ┆ mandarin   ┆ mandarin      ┆ 76   ┆ 5.8   ┆ 4.0    ┆ 0.81        │\n",
      "│ 1           ┆ apple      ┆ braeburn      ┆ 178  ┆ 7.1   ┆ 7.8    ┆ 0.92        │\n",
      "│ 1           ┆ apple      ┆ braeburn      ┆ 172  ┆ 7.4   ┆ 7.0    ┆ 0.89        │\n",
      "│ 1           ┆ apple      ┆ braeburn      ┆ 166  ┆ 6.9   ┆ 7.3    ┆ 0.93        │\n",
      "│ 1           ┆ apple      ┆ braeburn      ┆ 172  ┆ 7.1   ┆ 7.6    ┆ 0.92        │\n",
      "│ 1           ┆ apple      ┆ braeburn      ┆ 154  ┆ 7.0   ┆ 7.1    ┆ 0.88        │\n",
      "└─────────────┴────────────┴───────────────┴──────┴───────┴────────┴─────────────┘\n"
     ]
    }
   ],
   "source": [
    "use polars::prelude::*;\n",
    "use csv::{Reader, Writer};\n",
    "\n",
    "let df = CsvReadOptions::default()\n",
    "    .with_has_header(true)\n",
    "    .try_into_reader_with_file_path(Some(\"fruit_data.csv\".into()))?\n",
    "    .finish()?;\n",
    "\n",
    "// print top 10 rows\n",
    "println!(\"\\nDataFrame Schema:\");\n",
    "println!(\"{:?}\", df.head(Some(10)));\n",
    "\n",
    "// groupby and get counts\n",
    "let fruit_counts = df.group_by([\"fruit_name\"])?.count()?;\n",
    "println!(\"\\nFruit Counts:\");\n",
    "println!(\"{}\", fruit_counts);\n",
    "\n",
    "// sort the dataframe and print\n",
    "let df_sort = df.sort(\n",
    "    [\"fruit_name\", \"mass\"],\n",
    "    SortMultipleOptions::new()\n",
    "        .with_order_descending_multi([false, true])\n",
    "    )?;\n",
    "\n",
    "println!(\"\\nDataFrame Schema:\");\n",
    "println!(\"{:?}\", df_sort.head(Some(10)));\n",
    "\n",
    "// filter the datframe and print\n",
    "let mask = df.column(\"color_score\")?.gt(0.7)?; // filter color_scheme column greater than 0.7\n",
    "let filter_df = df.filter(&mask)?;\n",
    "\n",
    "println!(\"\\nDataFrame Schema:\");\n",
    "println!(\"{:?}\", filter_df.head(Some(10)));"
   ]
  },
  {
   "cell_type": "code",
   "execution_count": null,
   "id": "674a25ad-ff62-4929-8f65-ba754ed8e63a",
   "metadata": {},
   "outputs": [],
   "source": []
  }
 ],
 "metadata": {
  "kernelspec": {
   "display_name": "Rust",
   "language": "rust",
   "name": "rust"
  },
  "language_info": {
   "codemirror_mode": "rust",
   "file_extension": ".rs",
   "mimetype": "text/rust",
   "name": "Rust",
   "pygment_lexer": "rust",
   "version": ""
  }
 },
 "nbformat": 4,
 "nbformat_minor": 5
}
